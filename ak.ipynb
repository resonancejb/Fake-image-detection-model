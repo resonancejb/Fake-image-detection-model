{
 "cells": [
  {
   "cell_type": "code",
   "execution_count": null,
   "metadata": {},
   "outputs": [],
   "source": []
  },
  {
   "cell_type": "code",
   "execution_count": null,
   "metadata": {},
   "outputs": [],
   "source": [
    "#create the model's architecture and compile it\n",
    "def get_model(input_shape):\n",
    "\n",
    "    input = tf.keras.Input(shape=input_shape)\n",
    "\n",
    "    densenet = tf.keras.applications.DenseNet121( weights=\"imagenet\", include_top=False, input_tensor = input)\n",
    "\n",
    "    x = tf.keras.layers.GlobalAveragePooling2D()(densenet.output)\n",
    "    x = tf.keras.layers.Dense(512, activation='relu')(x)\n",
    "    x = tf.keras.layers.BatchNormalization()(x)\n",
    "    x = tf.keras.layers.Dropout(0.3)(x)\n",
    "    output = tf.keras.layers.Dense(1, activation='sigmoid')(x) #binary classification\n",
    "\n",
    "    model = tf.keras.Model(densenet.input, output)\n",
    "\n",
    "    model.compile(loss=\"binary_crossentropy\", optimizer=\"adam\", metrics=[\"accuracy\"])\n",
    "\n",
    "    return model\n"
   ]
  },
  {
   "cell_type": "code",
   "execution_count": null,
   "metadata": {},
   "outputs": [],
   "source": [
    "from tensorflow.keras.utils import plot_model\n",
    "plot_model(model, to_file='model.png', show_shapes=True, show_layer_names=True)\n"
   ]
  }
 ],
 "metadata": {
  "language_info": {
   "name": "python"
  }
 },
 "nbformat": 4,
 "nbformat_minor": 2
}
